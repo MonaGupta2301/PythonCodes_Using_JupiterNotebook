{
 "cells": [
  {
   "cell_type": "code",
   "execution_count": 5,
   "id": "881ab34c",
   "metadata": {},
   "outputs": [
    {
     "name": "stdout",
     "output_type": "stream",
     "text": [
      "Hello World\n"
     ]
    }
   ],
   "source": [
    "# 1. Write a Python Program to Print \"Hello World\"\n",
    "\n",
    "print('Hello World')\n",
    "\n",
    "'''\n",
    "OUTPUT\n",
    "\n",
    "Hello World\n",
    "\n",
    "'''"
   ]
  },
  {
   "cell_type": "code",
   "execution_count": 11,
   "id": "acb94c68",
   "metadata": {},
   "outputs": [
    {
     "name": "stdout",
     "output_type": "stream",
     "text": [
      "X = 10\n",
      "Y = 20\n",
      "Addition of Two Number is : 30\n",
      "Sum of 10 and 20 is :30\n"
     ]
    }
   ],
   "source": [
    "#2. write a python code to Add two integers\n",
    "x=10\n",
    "y=20\n",
    "z=x+y\n",
    "print('X = {0}'.format(x))\n",
    "print('Y = {0}'.format(y))\n",
    "print('Addition of Two Number is : {0}'.format(z))\n",
    "print('Sum of {0} and {1} is :{2}'.format(x,y,z))\n",
    "\n",
    "'''\n",
    "OUTPUT\n",
    "\n",
    "X = 10\n",
    "Y = 20\n",
    "Addition of Two Number is : 30\n",
    "Sum of 10 and 20 is :30\n",
    "'''"
   ]
  },
  {
   "cell_type": "code",
   "execution_count": 15,
   "id": "69dd5c70",
   "metadata": {},
   "outputs": [
    {
     "name": "stdout",
     "output_type": "stream",
     "text": [
      "* * * * Before Swapping * * * * \n",
      "\n",
      "X = 10 and Y = 20\n",
      "\n",
      "* * * * After Swapping * * * * \n",
      "\n",
      "X = 20 and Y = 10\n",
      "\n"
     ]
    }
   ],
   "source": [
    "#3 Write aPython Code to swap a number\n",
    "x=10\n",
    "y=20\n",
    "print('* * * * Before Swapping * * * * \\n')\n",
    "print('X = {0} and Y = {1}\\n'.format(x,y))\n",
    "x,y=y,x\n",
    "print('* * * * After Swapping * * * * \\n')\n",
    "print('X = {0} and Y = {1}\\n'.format(x,y))\n",
    "\n",
    "'''\n",
    "OUPUT\n",
    "\n",
    "* * * * Before Swapping * * * * \n",
    "\n",
    "X = 10 and Y = 20\n",
    "\n",
    "* * * * After Swapping * * * * \n",
    "\n",
    "X = 20 and Y = 10\n",
    "\n",
    "'''"
   ]
  },
  {
   "cell_type": "code",
   "execution_count": 18,
   "id": "f4ed03ae",
   "metadata": {},
   "outputs": [
    {
     "name": "stdout",
     "output_type": "stream",
     "text": [
      "X = 1.1 and Y = 1.1\n",
      "\n",
      "Myltiplication of X and Y is : 1.2100000000000002\n"
     ]
    }
   ],
   "source": [
    "#4 Write a pythone Program two multiply two Folating Point Number\n",
    "x= 1.1\n",
    "y= 1.1\n",
    "z=x*y\n",
    "print('X = {0} and Y = {1}\\n'.format(x,y))\n",
    "print('Myltiplication of X and Y is : {0}'.format(z))\n",
    "\n",
    "'''\n",
    "OUTPUT\n",
    "\n",
    "X = 1.1 and Y = 1.1\n",
    "\n",
    "Myltiplication of X and Y is : 1.2100000000000002\n",
    "\n",
    "'''"
   ]
  },
  {
   "cell_type": "code",
   "execution_count": 21,
   "id": "815200c4",
   "metadata": {},
   "outputs": [
    {
     "name": "stdout",
     "output_type": "stream",
     "text": [
      "X =100 and Y=20\n",
      "\n",
      "* * Arithmatic Operators * *\n",
      "\n",
      "Addition       : 120\n",
      "Substraction   : 80\n",
      "Multiplication : 2000\n",
      "Division       : 5.0\n",
      "Modulous       : 0\n"
     ]
    }
   ],
   "source": [
    "#5 Write a Python Program to Perform the Arithmatic Operation\n",
    "x=100\n",
    "y=20\n",
    "print('X ={0} and Y={1}\\n'.format(x,y))\n",
    "print('* * Arithmatic Operators * *\\n')\n",
    "print('Addition       : {0}'.format(x+y))\n",
    "print('Substraction   : {0}'.format(x-y))\n",
    "print('Multiplication : {0}'.format(x*y))\n",
    "print('Division       : {0}'.format(x/y))\n",
    "print('Modulous       : {0}'.format(x%y))\n",
    "\n",
    "'''\n",
    "OUTPUT\n",
    "\n",
    "X =100 and Y=20\n",
    "\n",
    "* * Arithmatic Operators * *\n",
    "\n",
    "Addition       : 120\n",
    "Substraction   : 80\n",
    "Multiplication : 2000\n",
    "Division       : 5.0\n",
    "Modulous       : 0\n",
    "\n",
    "'''"
   ]
  },
  {
   "cell_type": "code",
   "execution_count": 24,
   "id": "de7e4f5f",
   "metadata": {},
   "outputs": [
    {
     "name": "stdout",
     "output_type": "stream",
     "text": [
      "200 feet = 60.957025297165494 meter\n"
     ]
    }
   ],
   "source": [
    "#6 write a Python code to convert feet to meter\n",
    "# 3.281 ft = 1 meter\n",
    "# 1 meter = feet/3.281\n",
    "\n",
    "feet = 200\n",
    "meter= feet/3.281\n",
    "\n",
    "print('{0} feet = {1} meter'.format(feet,meter))\n",
    "\n",
    "''' \n",
    "OUTPUT\n",
    "\n",
    "200 feet = 60.957025297165494 meter\n",
    "\n",
    "'''"
   ]
  },
  {
   "cell_type": "code",
   "execution_count": 31,
   "id": "3bf87b32",
   "metadata": {},
   "outputs": [
    {
     "name": "stdout",
     "output_type": "stream",
     "text": [
      " 40.000 degree celsius is equal to 104.000\n"
     ]
    }
   ],
   "source": [
    "#7 write a Python code to convert the celsius to fahrenheit\n",
    "# f = ((cel*1.8)+32);\n",
    "\n",
    "celsius = 40\n",
    "fer = (celsius*1.8)+32\n",
    "print(' %.3lf degree celsius is equal to %.3lf'%(celsius,fer))\n",
    "\n",
    "'''\n",
    "OUTPUT\n",
    "\n",
    "40.000 degree celsius is equal to 104.000\n",
    "\n",
    "'''"
   ]
  },
  {
   "cell_type": "code",
   "execution_count": 32,
   "id": "fd548eec",
   "metadata": {},
   "outputs": [
    {
     "name": "stdout",
     "output_type": "stream",
     "text": [
      "100.00 degree fahrenheit is equal to 37.78 celsius\n"
     ]
    }
   ],
   "source": [
    "#8 write a Python code to convert the fahrenheit to celsius\n",
    "# celsius = (f-32)*(5/9)\n",
    "\n",
    "fer=100\n",
    "celsius=(fer-32)*(5/9)\n",
    "print('%.2f degree fahrenheit is equal to %.2f celsius'%(fer,celsius))\n",
    "\n",
    "'''\n",
    "OUTPUT\n",
    "\n",
    "100.00 degree fahrenheit is equal to 37.78 celsius\n",
    "\n",
    "'''"
   ]
  },
  {
   "cell_type": "code",
   "execution_count": 49,
   "id": "39bfb0df",
   "metadata": {},
   "outputs": [
    {
     "name": "stdout",
     "output_type": "stream",
     "text": [
      "Size of Number : 28\n",
      "Size of Float Number : 24\n",
      "Size of String : 59\n",
      "Size of Number : 96\n",
      "Size of Number : 80\n",
      "Size of Number : 728\n"
     ]
    }
   ],
   "source": [
    "#9 Write a Python Code to find out the size of an Python datatype\n",
    "import sys\n",
    "\n",
    "number = 26263636\n",
    "floatpoint = 1767.22\n",
    "string = 'Mona Gupta'\n",
    "List=[10,20,30,40,50]\n",
    "Tuple=(22,33,44,55,66)\n",
    "dic={4,5,6,7,8,9}\n",
    "\n",
    "\n",
    "\n",
    "Num_Size = sys.getsizeof(number)\n",
    "Float_Size = sys.getsizeof(floatpoint)\n",
    "String_Size = sys.getsizeof(string)\n",
    "List_Size =sys.getsizeof(List)\n",
    "Tuple_Size=sys.getsizeof(Tuple)\n",
    "dic_Size =sys.getsizeof(dic)\n",
    "\n",
    "\n",
    "print('Size of Number : {0}'.format(Num_Size))\n",
    "print('Size of Float Number : {0}'.format(Float_Size))\n",
    "print('Size of String : {0}'.format(String_Size))\n",
    "print('Size of Number : {0}'.format(List_Size))\n",
    "print('Size of Number : {0}'.format(Tuple_Size))\n",
    "print('Size of Number : {0}'.format(dic_Size))\n",
    "\n",
    "'''\n",
    "OUTPUT\n",
    "\n",
    "Size of Number : 28\n",
    "Size of Float Number : 24\n",
    "Size of String : 59\n",
    "Size of Number : 96\n",
    "Size of Number : 80\n",
    "Size of Number : 728\n",
    "\n",
    "'''"
   ]
  },
  {
   "cell_type": "code",
   "execution_count": 55,
   "id": "ceacd312",
   "metadata": {},
   "outputs": [
    {
     "name": "stdout",
     "output_type": "stream",
     "text": [
      " The ASCII value of A = 65\n",
      " The ASCII value of a = 97\n",
      " The ASCII value of B = 66\n",
      " The ASCII value of e = 101\n",
      " The ASCII value of C = 67\n"
     ]
    }
   ],
   "source": [
    "#10 Write a Python Program to print the ASCII Values\n",
    "\n",
    "ValueOfA = 'A'\n",
    "ValueOfa = 'a'\n",
    "ValueOfB = 'B'\n",
    "ValueOfe = 'e'\n",
    "ValueOfC = 'C'\n",
    "\n",
    "print(' The ASCII value of {0} = {1}'.format(ValueOfA, ord(ValueOfA)))\n",
    "print(' The ASCII value of {0} = {1}'.format(ValueOfa, ord(ValueOfa)))\n",
    "print(' The ASCII value of {0} = {1}'.format(ValueOfB, ord(ValueOfB)))\n",
    "print(' The ASCII value of {0} = {1}'.format(ValueOfe, ord(ValueOfe)))\n",
    "print(' The ASCII value of {0} = {1}'.format(ValueOfC, ord(ValueOfC)))\n",
    "\n",
    "'''\n",
    "OUTPUT\n",
    "\n",
    "The ASCII value of A = 65\n",
    "The ASCII value of a = 97\n",
    "The ASCII value of B = 66\n",
    "The ASCII value of e = 101\n",
    "The ASCII value of C = 67\n",
    " \n",
    "'''"
   ]
  },
  {
   "cell_type": "code",
   "execution_count": 57,
   "id": "8ce930b9",
   "metadata": {},
   "outputs": [
    {
     "name": "stdout",
     "output_type": "stream",
     "text": [
      "Radius = 1.1\n",
      "Area of Circle = 3.8028571428571434\n"
     ]
    }
   ],
   "source": [
    "#11 Write a Python Code to find the Area of Circle\n",
    "#Formula = (22/7.0)*r*r\n",
    "\n",
    "radius= 1.1\n",
    "Area= (22/7.0)*radius*radius\n",
    "\n",
    "print('Radius = {0}'.format(radius))\n",
    "print('Area of Circle = {0}'.format(Area))\n",
    "\n",
    "'''\n",
    "OUTPUT\n",
    "\n",
    "Radius = 1.1\n",
    "Area of Circle = 3.8028571428571434\n",
    "\n",
    "'''"
   ]
  },
  {
   "cell_type": "code",
   "execution_count": 59,
   "id": "5c0ffa72",
   "metadata": {},
   "outputs": [
    {
     "name": "stdout",
     "output_type": "stream",
     "text": [
      "Length = 100 \n",
      "Breadth = 200\n",
      "Area of Rectangle = 20000\n"
     ]
    }
   ],
   "source": [
    "#12 Write a Python Code to find the Area of Rectangle\n",
    "#Formula = Length*Breadth\n",
    "\n",
    "Length=100\n",
    "Breadth=200\n",
    "\n",
    "Area=Length*Breadth\n",
    "\n",
    "print('Length = {0} \\nBreadth = {1}'.format(Length,Breadth))\n",
    "print('Area of Rectangle = {0}'.format(Area))\n",
    "\n",
    "'''\n",
    "OUTPUT\n",
    "\n",
    "Length = 100 \n",
    "Breadth = 200\n",
    "Area of Rectangle = 20000\n",
    "\n",
    "'''"
   ]
  },
  {
   "cell_type": "code",
   "execution_count": 61,
   "id": "4b9baa37",
   "metadata": {},
   "outputs": [
    {
     "name": "stdout",
     "output_type": "stream",
     "text": [
      "Radius = 1.1 \n",
      "Height = 3.3\n",
      "Area of Cylinder = 12.549428571428573\n"
     ]
    }
   ],
   "source": [
    "#13 Write a Python Code to find the Area of Cylinder\n",
    "#Formula = (22/7.0)*radius*radius*height\n",
    "\n",
    "radius=1.1\n",
    "height=3.3\n",
    "\n",
    "Area = (22/7.0)*radius*radius*height\n",
    "\n",
    "print('Radius = {0} \\nHeight = {1}'.format(radius,height))\n",
    "print('Area of Cylinder = {0}'.format(Area))\n",
    "\n",
    "'''\n",
    "OUTPUT\n",
    "\n",
    "Radius = 1.1 \n",
    "Height = 3.3\n",
    "Area of Cylinder = 12.549428571428573\n",
    "\n",
    "'''\n"
   ]
  },
  {
   "cell_type": "code",
   "execution_count": 62,
   "id": "fe5b020d",
   "metadata": {},
   "outputs": [
    {
     "name": "stdout",
     "output_type": "stream",
     "text": [
      "When Days = 30000 then Years =82.1917808219178\n",
      "When Days = 30000 then Months =1000.0\n",
      "When Days = 30000 then Weeks =4285.714285714285\n"
     ]
    }
   ],
   "source": [
    "#14 Write a Python Code to convert the Days into Year, months and Week\n",
    "\n",
    "days=30000\n",
    "\n",
    "Num_Of_Year = days/365;\n",
    "Num_Of_Week = days/7;\n",
    "Num_Of_Months = days/30;\n",
    "\n",
    "print('When Days = {0} then Years ={1}'.format(days,Num_Of_Year))\n",
    "print('When Days = {0} then Months ={1}'.format(days,Num_Of_Months))\n",
    "print('When Days = {0} then Weeks ={1}'.format(days,Num_Of_Week))\n",
    "\n",
    "'''\n",
    "OUTPUT\n",
    "\n",
    "When Days = 30000 then Years =82.1917808219178\n",
    "When Days = 30000 then Months =1000.0\n",
    "When Days = 30000 then Weeks =4285.714285714285\n",
    "\n",
    "'''\n",
    "\n"
   ]
  }
 ],
 "metadata": {
  "kernelspec": {
   "display_name": "Python 3",
   "language": "python",
   "name": "python3"
  },
  "language_info": {
   "codemirror_mode": {
    "name": "ipython",
    "version": 3
   },
   "file_extension": ".py",
   "mimetype": "text/x-python",
   "name": "python",
   "nbconvert_exporter": "python",
   "pygments_lexer": "ipython3",
   "version": "3.8.8"
  }
 },
 "nbformat": 4,
 "nbformat_minor": 5
}
