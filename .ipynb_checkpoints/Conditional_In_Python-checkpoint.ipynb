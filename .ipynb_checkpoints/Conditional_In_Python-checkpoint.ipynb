{
 "cells": [
  {
   "cell_type": "code",
   "execution_count": 9,
   "id": "0ad32469",
   "metadata": {},
   "outputs": [
    {
     "name": "stdout",
     "output_type": "stream",
     "text": [
      "Enter any number :503\n",
      "Entered Number is ODD\n"
     ]
    }
   ],
   "source": [
    "#1 .Write a python code to find out whether the number is even or odd\n",
    "\n",
    "num1=int(input('Enter any number :'))\n",
    "\n",
    "if (num1%2==0):\n",
    "    print('Entered Number is EVEN')\n",
    "else:\n",
    "    print('Entered Number is ODD')\n",
    "    \n",
    "'''\n",
    "OUPUT\n",
    "\n",
    "Enter any number :503\n",
    "Entered Number is ODD\n",
    "\n",
    "'''"
   ]
  },
  {
   "cell_type": "code",
   "execution_count": 14,
   "id": "5315679e",
   "metadata": {},
   "outputs": [
    {
     "name": "stdout",
     "output_type": "stream",
     "text": [
      "Enter 1st Number : 200\n",
      "Enter 2nd Number : 400\n",
      "Enter 3rd Number : 900\n",
      "3rd Number is Grater\n"
     ]
    }
   ],
   "source": [
    "#2 Find the largest number Among three Number\n",
    "num1=int(input('Enter 1st Number : '))\n",
    "num2=int(input('Enter 2nd Number : '))\n",
    "num3=int(input('Enter 3rd Number : '))\n",
    "\n",
    "if(num1>num2):\n",
    "    if(num1>num3):\n",
    "        print('1st Number is Greater')\n",
    "    else:\n",
    "        print('3rd Number is Greater')\n",
    "elif(num2 >num3):\n",
    "     print('2nd Number is Greater')\n",
    "else:\n",
    "    print('3rd Number is Grater')\n",
    "    \n",
    "'''\n",
    "OUTPUT\n",
    "\n",
    "Enter 1st Number : 200\n",
    "Enter 2nd Number : 400\n",
    "Enter 3rd Number : 900\n",
    "3rd Number is Grater\n",
    "\n",
    "'''"
   ]
  },
  {
   "cell_type": "code",
   "execution_count": 19,
   "id": "25cd00a7",
   "metadata": {},
   "outputs": [
    {
     "name": "stdout",
     "output_type": "stream",
     "text": [
      "Enter 1st Number :200\n",
      "Enter 2nd Number :300\n",
      "300 is greater\n"
     ]
    }
   ],
   "source": [
    "#3 write a python code to find largest number using Conditional operator\n",
    "\n",
    "num1=int(input('Enter 1st Number :'))\n",
    "num2=int(input('Enter 2nd Number :'))\n",
    "\n",
    "max= num1 if num1>num2 else num2\n",
    "\n",
    "print('{0} is greater'.format(max))\n",
    "\n",
    "'''\n",
    "OUTPUT\n",
    "\n",
    "Enter 1st Number :200\n",
    "Enter 2nd Number :300\n",
    "300 is greater\n",
    "\n",
    "'''"
   ]
  },
  {
   "cell_type": "code",
   "execution_count": 20,
   "id": "cfde3776",
   "metadata": {},
   "outputs": [
    {
     "name": "stdout",
     "output_type": "stream",
     "text": [
      "Enter 1st Number : 200\n",
      "Enter 2nd Number : 300\n",
      "Enter 3rd Number : 500\n",
      "3rd Number is Grater\n"
     ]
    }
   ],
   "source": [
    "#4 write a python code to find largest number among three numbers using nested if else\n",
    "\n",
    "num1=int(input('Enter 1st Number : '))\n",
    "num2=int(input('Enter 2nd Number : '))\n",
    "num3=int(input('Enter 3rd Number : '))\n",
    "\n",
    "if(num1>num2):\n",
    "    if(num1>num3):\n",
    "        print('1st Number is Greater')\n",
    "    else:\n",
    "        print('3rd Number is Greater')\n",
    "elif(num2 >num3):\n",
    "     print('2nd Number is Greater')\n",
    "else:\n",
    "    print('3rd Number is Grater')\n",
    "\n",
    "'''\n",
    "OUTPUT\n",
    "\n",
    "Enter 1st Number : 200\n",
    "Enter 2nd Number : 300\n",
    "Enter 3rd Number : 500\n",
    "3rd Number is Grater\n",
    "\n",
    "'''"
   ]
  },
  {
   "cell_type": "code",
   "execution_count": 23,
   "id": "51cfa317",
   "metadata": {},
   "outputs": [
    {
     "name": "stdout",
     "output_type": "stream",
     "text": [
      "Enter a year :2000\n",
      "Leap Year \n"
     ]
    }
   ],
   "source": [
    "#5 write a python code to finf leap year using ternary operator\n",
    "\n",
    "year=int(input('Enter a year :'))\n",
    "setYear= 'Leap Year ' if((year%400)==0)or((year%4)==0) and ((year%100)!=0) else 'Not a Leap Year'\n",
    "print(setYear)\n",
    "\n",
    "'''\n",
    "OUTPUT\n",
    "\n",
    "Enter a year :2000\n",
    "Leap Year \n",
    "\n",
    "'''"
   ]
  },
  {
   "cell_type": "code",
   "execution_count": 26,
   "id": "d4ebb85e",
   "metadata": {},
   "outputs": [
    {
     "name": "stdout",
     "output_type": "stream",
     "text": [
      "Enter a character :A\n",
      "VOWEL\n"
     ]
    }
   ],
   "source": [
    "#6 Write a Python Code to check Alphabets\n",
    "\n",
    "al=input('Enter a character :')\n",
    "\n",
    "setAlpha= \"VOWEL\" if ((al=='a')or (al=='e')or(al=='i')or(al=='o')or(al=='u')or(al=='A')or(al=='E')or(al=='I')or(al=='O')or(al=='U')) else ' CONSONENT'\n",
    "\n",
    "print(setAlpha)\n",
    "\n",
    "'''\n",
    "OUTPUT\n",
    "Enter a character :A\n",
    "VOWEL\n",
    "'''"
   ]
  },
  {
   "cell_type": "code",
   "execution_count": 31,
   "id": "2f3f54d6",
   "metadata": {},
   "outputs": [
    {
     "name": "stdout",
     "output_type": "stream",
     "text": [
      "Enter a Number :45\n",
      "Its a Positive Number\n"
     ]
    },
    {
     "data": {
      "text/plain": [
       "'\\nOUTPUT\\nEnter a Number :0\\nIts a ZERO\\n\\nEnter a Number :-98\\nIts a Negative Number\\n'"
      ]
     },
     "execution_count": 31,
     "metadata": {},
     "output_type": "execute_result"
    }
   ],
   "source": [
    "#7 Write a Code to check whether the number is Positive ,nagative or ZERO\n",
    "\n",
    "num=int(input('Enter a Number :'))\n",
    "\n",
    "if(num>0):\n",
    "    print('Its a Positive Number')\n",
    "elif(num<0):\n",
    "    print('Its a Negative Number')\n",
    "else:\n",
    "    print('Its a ZERO')\n",
    "    \n",
    "'''\n",
    "OUTPUT\n",
    "Enter a Number :0\n",
    "Its a ZERO\n",
    "\n",
    "Enter a Number :-98\n",
    "Its a Negative Number\n",
    "\n",
    "Enter a Number :45\n",
    "Its a Positive Number\n",
    "'''"
   ]
  },
  {
   "cell_type": "code",
   "execution_count": 39,
   "id": "23866b39",
   "metadata": {},
   "outputs": [
    {
     "name": "stdout",
     "output_type": "stream",
     "text": [
      "Enter a character :2\n",
      "Its not an Alphabet\n"
     ]
    },
    {
     "data": {
      "text/plain": [
       "'\\nOUTPUT\\n\\nEnter a character :A\\nIts a UPPERCASE Charachter\\n\\nEnter a character :a\\nIts a LOWERCASE Character\\n\\nEnter a character :@\\nIts not an Alphabet\\n\\n'"
      ]
     },
     "execution_count": 39,
     "metadata": {},
     "output_type": "execute_result"
    }
   ],
   "source": [
    "#6 Write a python code to check the Uppercase and Lowercase of alphabet\n",
    "\n",
    "char = input('Enter a character :')\n",
    "\n",
    "if(char.isupper()):\n",
    "    print('Its a UPPERCASE Charachter')\n",
    "elif(char.islower()):\n",
    "    print('Its a LOWERCASE Character')\n",
    "else:\n",
    "    print('Its not an Alphabet')\n",
    "    \n",
    "'''\n",
    "OUTPUT\n",
    "\n",
    "Enter a character :A\n",
    "Its a UPPERCASE Charachter\n",
    "\n",
    "Enter a character :a\n",
    "Its a LOWERCASE Character\n",
    "\n",
    "Enter a character :@\n",
    "Its not an Alphabet\n",
    "\n",
    "Enter a character :2\n",
    "Its not an Alphabet\n",
    "\n",
    "'''"
   ]
  },
  {
   "cell_type": "code",
   "execution_count": null,
   "id": "177d7aa6",
   "metadata": {},
   "outputs": [],
   "source": [
    "#8 Write a python code to check wether the charchter is vowel or Consonent\n",
    "\n",
    "al=input('Enter a character :')\n",
    "\n",
    "setAlpha= \"VOWEL\" if ((al=='a')or (al=='e')or(al=='i')or(al=='o')or(al=='u')or(al=='A')or(al=='E')or(al=='I')or(al=='O')or(al=='U')) else ' CONSONENT'\n",
    "\n",
    "print(setAlpha)\n",
    "\n",
    "'''\n",
    "OUTPUT\n",
    "Enter a character :A\n",
    "VOWEL\n",
    "'''"
   ]
  },
  {
   "cell_type": "code",
   "execution_count": 43,
   "id": "a1ac38ca",
   "metadata": {},
   "outputs": [
    {
     "name": "stdout",
     "output_type": "stream",
     "text": [
      "Enter your Value :@\n",
      "Its a Symbol\n"
     ]
    },
    {
     "data": {
      "text/plain": [
       "'\\nEnter your Value :A\\nIts a Alphabet\\n\\nEnter your Value :2\\nIts a digit\\n\\n'"
      ]
     },
     "execution_count": 43,
     "metadata": {},
     "output_type": "execute_result"
    }
   ],
   "source": [
    "#9 Write a code to find whether enter string is character ,digit or symbol\n",
    "\n",
    "num=input(\"Enter your Value :\")\n",
    "if(num.isdigit()):\n",
    "    print('Its a digit')\n",
    "elif(num.isalpha()):\n",
    "    print('Its a Alphabet')\n",
    "else:\n",
    "    print('Its a Symbol')\n",
    "    \n",
    "'''\n",
    "Enter your Value :A\n",
    "Its a Alphabet\n",
    "\n",
    "Enter your Value :2\n",
    "Its a digit\n",
    "\n",
    "Enter your Value :@\n",
    "Its a Symbol\n",
    "'''"
   ]
  },
  {
   "cell_type": "code",
   "execution_count": 52,
   "id": "fb30a92b",
   "metadata": {},
   "outputs": [
    {
     "name": "stdout",
     "output_type": "stream",
     "text": [
      "Enter Number Between 1 to 7 :-90\n",
      "day is : please Enter number Between 1 to 7 only\n"
     ]
    },
    {
     "data": {
      "text/plain": [
       "\"\\nOUTPUT\\nEnter Number Between 1 to 7 :5\\n'Friday'\\n\\nEnter Number Between 1 to 7 :6\\nday is : Saturday\\n\""
      ]
     },
     "execution_count": 52,
     "metadata": {},
     "output_type": "execute_result"
    }
   ],
   "source": [
    "#10 Write a Python code to print the day name of week\n",
    "def day(num):\n",
    "    findDay={\n",
    "        1:'Monday',\n",
    "        2:'Tuesday',\n",
    "        3:'Wednesday',\n",
    "        4:'Thusday',\n",
    "        5:'Friday',\n",
    "        6:'Saturday',\n",
    "        7:'Sunday'\n",
    "    }\n",
    "    dayname=findDay.get(num,'please Enter number Between 1 to 7 only')\n",
    "\n",
    "    return dayname \n",
    "\n",
    "num=int(input('Enter Number Between 1 to 7 :'))\n",
    "name=day(num)\n",
    "print(\"day is :\",name)\n",
    "'''\n",
    "OUTPUT\n",
    "\n",
    "Enter Number Between 1 to 7 :6\n",
    "day is : Saturday\n",
    "\n",
    "Enter Number Between 1 to 7 :-90\n",
    "day is : please Enter number Between 1 to 7 only\n",
    "'''"
   ]
  },
  {
   "cell_type": "code",
   "execution_count": 54,
   "id": "705c90fd",
   "metadata": {},
   "outputs": [
    {
     "name": "stdout",
     "output_type": "stream",
     "text": [
      "Enter 1st Number :30\n",
      "Enter 2nd Number :40\n",
      "Both the Numbers are not Equal\n"
     ]
    },
    {
     "data": {
      "text/plain": [
       "'\\nOUTPUT\\n\\nEnter 1st Number :20\\nEnter 2nd Number :20\\nBoth the Numbers are Equal\\n\\n\\n'"
      ]
     },
     "execution_count": 54,
     "metadata": {},
     "output_type": "execute_result"
    }
   ],
   "source": [
    "#11 write a Python code to accept two numbers and check whrther that number are qual or not.\n",
    "\n",
    "num1=int(input('Enter 1st Number :'))\n",
    "num2=int(input('Enter 2nd Number :'))\n",
    "if(num1==num2):\n",
    "    print('Both the Numbers are Equal')\n",
    "else:\n",
    "    print('Both the Numbers are not Equal')\n",
    "    \n",
    "'''\n",
    "OUTPUT\n",
    "\n",
    "Enter 1st Number :20\n",
    "Enter 2nd Number :20\n",
    "Both the Numbers are Equal\n",
    "\n",
    "Enter 1st Number :30\n",
    "Enter 2nd Number :40\n",
    "Both the Numbers are not Equal\n",
    "'''"
   ]
  },
  {
   "cell_type": "code",
   "execution_count": 57,
   "id": "b06ca938",
   "metadata": {},
   "outputs": [
    {
     "name": "stdout",
     "output_type": "stream",
     "text": [
      "Enter your Age :18\n",
      "You are Eligible for vote\n"
     ]
    },
    {
     "data": {
      "text/plain": [
       "'\\nOUTPUT\\n\\nEnter your Age :19\\nYou are Eligible for vote\\n\\nEnter your Age :12\\nYou are not Eligible for vote\\n\\n'"
      ]
     },
     "execution_count": 57,
     "metadata": {},
     "output_type": "execute_result"
    }
   ],
   "source": [
    "#12 write a python code to Determine whethe a candidate is eligible for vote or not\n",
    "\n",
    "age=int(input('Enter your Age :'))\n",
    "\n",
    "if(age>=18):\n",
    "    print('You are Eligible for vote')\n",
    "else:\n",
    "    print('You are not Eligible for vote')\n",
    "    \n",
    "'''\n",
    "OUTPUT\n",
    "\n",
    "Enter your Age :19\n",
    "You are Eligible for vote\n",
    "\n",
    "Enter your Age :12\n",
    "You are not Eligible for vote\n",
    "\n",
    "Enter your Age :18\n",
    "You are Eligible for vote\n",
    "\n",
    "'''"
   ]
  },
  {
   "cell_type": "code",
   "execution_count": 61,
   "id": "99c987ee",
   "metadata": {},
   "outputs": [
    {
     "name": "stdout",
     "output_type": "stream",
     "text": [
      "Enter Your CET Score :75\n",
      "Enter your 12th Percent79\n",
      "\n",
      "Our CutOFF for CET is 45 and Percent of 12th should be above 49 \n",
      "\n",
      "You are fitting in the critria \n",
      "... Addmission Done ...\n"
     ]
    },
    {
     "data": {
      "text/plain": [
       "'\\nOUTPUT\\n\\nEnter Your CET Score :33\\nEnter your 12th Percent48\\n\\nOur CutOFF for CET is 45 and Percent of 12th should be above 49 \\n\\nYou are not fitting in the critria \\n...Sorry...\\n\\n\\n'"
      ]
     },
     "execution_count": 61,
     "metadata": {},
     "output_type": "execute_result"
    }
   ],
   "source": [
    "#13 write a Python code to find the eligibility of addmission of engineering cource base on criteria\n",
    "\n",
    "CET_Score=int(input('Enter Your CET Score :'))\n",
    "Score_of_12th=int(input('Enter your 12th Percent'))\n",
    "if(CET_Score>=45 and Score_of_12th>=50):\n",
    "    print('\\nOur CutOFF for CET is 45 and Percent of 12th should be above 49 ')\n",
    "    print('\\nYou are fitting in the critria \\n... Addmission Done ...')\n",
    "else:\n",
    "    print('\\nOur CutOFF for CET is 45 and Percent of 12th should be above 49 ')\n",
    "    print('\\nYou are not fitting in the critria \\n...Sorry...')\n",
    "    \n",
    "'''\n",
    "OUTPUT\n",
    "\n",
    "Enter Your CET Score :33\n",
    "Enter your 12th Percent48\n",
    "\n",
    "Our CutOFF for CET is 45 and Percent of 12th should be above 49 \n",
    "\n",
    "You are not fitting in the critria \n",
    "...Sorry...\n",
    "\n",
    "Enter Your CET Score :75\n",
    "Enter your 12th Percent79\n",
    "\n",
    "Our CutOFF for CET is 45 and Percent of 12th should be above 49 \n",
    "\n",
    "You are fitting in the critria \n",
    "... Addmission Done ...\n",
    "\n",
    "'''"
   ]
  },
  {
   "cell_type": "code",
   "execution_count": 64,
   "id": "a230c8e9",
   "metadata": {},
   "outputs": [
    {
     "name": "stdout",
     "output_type": "stream",
     "text": [
      "Enter your Marks in English :59\n",
      "Enter your Marks in Maths :60\n",
      "Enter your Marks in Science :45\n",
      "Enter your Marks in Social Science :56\n",
      "Enter your Marks in Marathi :67\n",
      "Enter your Marks in Hindi :44\n",
      "Total marks are : 331\n",
      "Percentages is :  55.166666666666664\n",
      "Grade is :  B+\n"
     ]
    }
   ],
   "source": [
    "#14 Write a Python code find the total marks ,percentage and division of the student\n",
    "\n",
    "Eng=int(input('Enter your Marks in English :'))\n",
    "Math=int(input('Enter your Marks in Maths :'))\n",
    "Sci=int(input('Enter your Marks in Science :'))\n",
    "SoSci=int(input('Enter your Marks in Social Science :'))\n",
    "Mar=int(input('Enter your Marks in Marathi :'))\n",
    "Hin=int(input('Enter your Marks in Hindi :'))\n",
    "\n",
    "total=(Eng+Math+Sci+SoSci+Mar+Hin)\n",
    "per=(total/600)*100\n",
    "\n",
    "if(per<36):\n",
    "    div='fail'\n",
    "elif(per>=36 and per<=40):\n",
    "    div='B'\n",
    "elif(per>=41 and per<=59):\n",
    "    div='B+'\n",
    "elif(per>=60 and per<=75):\n",
    "    div='A'\n",
    "elif(per>=76 and per<=89):\n",
    "    div='A+'\n",
    "elif(per>=90 and per<=94):\n",
    "    div='Outstanding'\n",
    "elif(per>=95 and per<=100):\n",
    "    div='Merit'\n",
    "\n",
    "\n",
    "print('Total marks are :',total)\n",
    "print('Percentages is : ',per)\n",
    "print('Grade is : ',div)\n",
    "\n",
    "'''\n",
    "OUTPUT\n",
    "\n",
    "Enter your Marks in English :59\n",
    "Enter your Marks in Maths :60\n",
    "Enter your Marks in Science :45\n",
    "Enter your Marks in Social Science :56\n",
    "Enter your Marks in Marathi :67\n",
    "Enter your Marks in Hindi :44\n",
    "Total marks are : 331\n",
    "Percentages is :  55.166666666666664\n",
    "Grade is :  B+\n",
    "\n",
    "'''"
   ]
  },
  {
   "cell_type": "code",
   "execution_count": 71,
   "id": "2543ee44",
   "metadata": {},
   "outputs": [
    {
     "name": "stdout",
     "output_type": "stream",
     "text": [
      "Enter a Month number : 17\n",
      "Please Enter Number Between 1 to 10\n"
     ]
    },
    {
     "data": {
      "text/plain": [
       "'\\nOUTPUT\\n\\nEnter a Month number : 2\\nNumber of days 29\\n\\nEnter a Month number : 6\\nNumber of days 30\\n\\n\\n'"
      ]
     },
     "execution_count": 71,
     "metadata": {},
     "output_type": "execute_result"
    }
   ],
   "source": [
    "#15 write a python code to write a month number and display the number of days\n",
    "def findMonth(num):\n",
    "    MonthToFind={\n",
    "        1:'31',\n",
    "        2:'29',\n",
    "        3:'31',\n",
    "        4:'30',\n",
    "        5:'31',\n",
    "        6:'30',\n",
    "        7:'31',\n",
    "        8:'30',\n",
    "        9:'31',\n",
    "        10:'31',\n",
    "        11:'30',\n",
    "        12:'31'\n",
    "    }\n",
    "    name=MonthToFind.get(num,'Please Enter Number Between 1 to 10')\n",
    "    return name\n",
    "\n",
    "num=int(input('Enter a Month number : '))\n",
    "MonthName=findMonth(num)\n",
    "if(MonthName=='Please Enter Number Between 1 to 10'):\n",
    "    print('Please Enter Number Between 1 to 10')\n",
    "else:\n",
    "    print('Number of days',MonthName)\n",
    "    \n",
    "    \n",
    "'''\n",
    "OUTPUT\n",
    "\n",
    "Enter a Month number : 2\n",
    "Number of days 29\n",
    "\n",
    "Enter a Month number : 6\n",
    "Number of days 30\n",
    "\n",
    "Enter a Month number : 17\n",
    "Please Enter Number Between 1 to 10\n",
    "\n",
    "'''"
   ]
  }
 ],
 "metadata": {
  "kernelspec": {
   "display_name": "Python 3",
   "language": "python",
   "name": "python3"
  }
 },
 "nbformat": 4,
 "nbformat_minor": 5
}
